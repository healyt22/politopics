{
 "cells": [
  {
   "cell_type": "code",
   "execution_count": 1,
   "metadata": {},
   "outputs": [
    {
     "name": "stderr",
     "output_type": "stream",
     "text": [
      "08/18/2019 01:42:27 AM | INFO | Gathering Tweets from /home/healyt22/git/politopics/tweet_data/LindseyGrahamSC/\n",
      "08/18/2019 01:42:27 AM | INFO | Processing Tweets from LindseyGrahamSC\n"
     ]
    }
   ],
   "source": [
    "import numpy as np\n",
    "from sklearn import metrics\n",
    "from mpl_toolkits import mplot3d\n",
    "import matplotlib.pyplot as plt\n",
    "from matplotlib.pyplot import figure\n",
    "import seaborn as sb\n",
    "from preprocess import *\n",
    "\n",
    "x = Preprocess('LindseyGrahamSC')\n",
    "X = x.td_matrix.toarray()"
   ]
  },
  {
   "cell_type": "code",
   "execution_count": 2,
   "metadata": {},
   "outputs": [],
   "source": [
    "def cos_similarity(x, y):\n",
    "    sol = (x.dot(y)) / (np.linalg.norm(x) * np.linalg.norm(y))\n",
    "    return(sol)\n",
    "\n",
    "n = X.shape[0]\n",
    "A = np.zeros((n,n))\n",
    "\n",
    "i = np.nditer(A, flags=['multi_index'])\n",
    "while not i.finished:\n",
    "    A[i.multi_index] = cos_similarity(X[i.multi_index[0],:], \n",
    "                                      X[i.multi_index[1],:])\n",
    "    i.iternext()"
   ]
  },
  {
   "cell_type": "code",
   "execution_count": 3,
   "metadata": {},
   "outputs": [
    {
     "data": {
      "text/plain": [
       "<matplotlib.collections.PathCollection at 0x7fa2628a5208>"
      ]
     },
     "execution_count": 3,
     "metadata": {},
     "output_type": "execute_result"
    },
    {
     "data": {
      "image/png": "[encoded data removed]",
      "text/plain": [
       "<Figure size 432x288 with 1 Axes>"
      ]
     },
     "metadata": {},
     "output_type": "display_data"
    }
   ],
   "source": [
    "eps = 10\n",
    "\n",
    "# Generate final matrix A, and row normalized matrix M. \n",
    "Ak = metrics.pairwise.rbf_kernel(A, gamma=1./(2.*eps))\n",
    "M = A/A.sum(axis=1, keepdims=True)\n",
    "\n",
    "# Get the eigenvalues/vectors of M. \n",
    "# We normalize by the first eigenvector. \n",
    "W, V = np.linalg.eig(Ak)\n",
    "V = V/V[:,0]\n",
    "sb.set_style('darkgrid')\n",
    "plt.scatter(V[:,1], V[:,2])"
   ]
  },
  {
   "cell_type": "code",
   "execution_count": null,
   "metadata": {},
   "outputs": [],
   "source": []
  }
 ],
 "metadata": {
  "kernelspec": {
   "display_name": "Python 3",
   "language": "python",
   "name": "python3"
  },
  "language_info": {
   "codemirror_mode": {
    "name": "ipython",
    "version": 3
   },
   "file_extension": ".py",
   "mimetype": "text/x-python",
   "name": "python",
   "nbconvert_exporter": "python",
   "pygments_lexer": "ipython3",
   "version": "3.6.8"
  }
 },
 "nbformat": 4,
 "nbformat_minor": 2
}
